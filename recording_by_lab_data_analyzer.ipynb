{
 "cells": [
  {
   "cell_type": "code",
   "execution_count": 1,
   "id": "5cc4a7ee",
   "metadata": {},
   "outputs": [],
   "source": [
    "import os\n",
    "import json\n",
    "import torch\n",
    "import numpy as np\n",
    "import pandas as pd\n",
    "from torch import nn\n",
    "from tqdm import tqdm\n",
    "from typing import List\n",
    "import multiprocessing as mp\n",
    "import torch.nn.functional as F\n",
    "from collections import defaultdict\n",
    "from random import sample, random, seed\n",
    "from torch.utils.data import Dataset, DataLoader\n",
    "from sklearn.model_selection import train_test_split\n",
    "\n",
    "os.environ['CUDA_VISIBLE_DEVICES'] = \"0\""
   ]
  },
  {
   "cell_type": "code",
   "execution_count": 2,
   "id": "818fbddc",
   "metadata": {},
   "outputs": [],
   "source": [
    "set_seed = 42\n",
    "torch.manual_seed(set_seed)\n",
    "torch.cuda.manual_seed(set_seed)\n",
    "torch.cuda.manual_seed_all(set_seed)\n",
    "np.random.seed(set_seed)\n",
    "seed(set_seed)"
   ]
  },
  {
   "cell_type": "code",
   "execution_count": 3,
   "id": "e99fe64c",
   "metadata": {},
   "outputs": [],
   "source": [
    "DIM = 50\n",
    "MARGIN = 1\n",
    "BATCH_SIZE = 512\n",
    "TOP_K = 5\n",
    "CORRUPTED_NUM = 100\n",
    "NORM = 2\n",
    "device = torch.device('cuda' if torch.cuda.is_available() else 'cpu')"
   ]
  },
  {
   "cell_type": "code",
   "execution_count": 4,
   "id": "5b96fb5e",
   "metadata": {},
   "outputs": [],
   "source": [
    "with open('./data/darpa_datasets/data/recording_by_lab/benign.json','rb') as f:\n",
    "    benign = json.load(f)\n",
    "    benign = benign['benign']\n",
    "with open('./data/darpa_datasets/data/recording_by_lab/CALDERA_malicious.json','rb') as f:\n",
    "    malicious = json.load(f)"
   ]
  },
  {
   "cell_type": "code",
   "execution_count": 5,
   "id": "59644118",
   "metadata": {},
   "outputs": [
    {
     "name": "stderr",
     "output_type": "stream",
     "text": [
      "100%|██████████| 70084/70084 [00:00<00:00, 1692618.11it/s]\n"
     ]
    }
   ],
   "source": [
    "'''\n",
    "object_'s key should not be in ['type','pid','srcip', 'srcport', 'protocol', 'type'], 英仁說的\n",
    "values of object_:'dstip' and object_:'dstport' should be concatenated, 英仁說的\n",
    "I choose cmdline from subject's keys and object_'s keys, so image is removed from object_.\n",
    "'''\n",
    "temp = []\n",
    "filter_ls = ['type','image','pid','srcip', 'srcport', 'protocol', 'type']\n",
    "for i,(subject,relation,object_) in tqdm(enumerate(benign),total=len(benign)):\n",
    "    if benign[i][subject]['cmdline'] != None and benign[i][relation] != None:\n",
    "        filtered_object = list(filter(lambda x: x[0] not in filter_ls,benign[i][object_].items()))\n",
    "        object_data = ':'.join([str(y) for x,y in filtered_object])\n",
    "        temp.append([\n",
    "            benign[i][subject]['cmdline'], benign[i][relation], object_data, 'benign'\n",
    "        ])"
   ]
  },
  {
   "cell_type": "code",
   "execution_count": 6,
   "id": "83d167e8",
   "metadata": {},
   "outputs": [
    {
     "name": "stderr",
     "output_type": "stream",
     "text": [
      "100%|██████████| 69/69 [00:00<00:00, 7990.03it/s]\n"
     ]
    }
   ],
   "source": [
    "filter_ls = ['type','image','pid','srcip', 'srcport', 'protocol', 'type']\n",
    "for key,values in tqdm(malicious.items(),total=len(malicious.items())):\n",
    "    for value in values:\n",
    "        for i,(subject,relation,object_) in enumerate(value['audit log']):\n",
    "            if value['audit log'][i][subject]['cmdline'] != None and value['audit log'][i][relation] != None:\n",
    "                filtered_object = list(filter(lambda x: x[0] not in filter_ls,benign[i][object_].items()))\n",
    "                object_data = ':'.join([str(y) for x,y in filtered_object])\n",
    "                temp.append([\n",
    "                    value['audit log'][i][subject]['cmdline'], value['audit log'][i][relation], object_data, value['TTP']\n",
    "                ])"
   ]
  },
  {
   "cell_type": "code",
   "execution_count": 7,
   "id": "aee98d95",
   "metadata": {},
   "outputs": [],
   "source": [
    "df = pd.DataFrame(temp,columns=['Subject','relation','Object','malicious_or_benign'])\n",
    "train_df, valid_df = train_test_split(df, test_size=0.2,random_state=42,shuffle=True)\n",
    "valid_df, test_df = train_test_split(valid_df, test_size=0.5,random_state=42,shuffle=True)"
   ]
  },
  {
   "cell_type": "code",
   "execution_count": 8,
   "id": "7fada83e",
   "metadata": {},
   "outputs": [],
   "source": [
    "# df = pd.read_csv('./transE_data.csv')\n",
    "# with open('./data/freebase_mtr100_mte100-train.txt','r') as f:\n",
    "#     temp = np.array([i.split() for i in f.readlines()])\n",
    "#     train_df = pd.DataFrame(temp,columns=['Subject','relation','Object'])\n",
    "# with open('./data/freebase_mtr100_mte100-valid.txt','r') as f:\n",
    "#     temp = np.array([i.split() for i in f.readlines()])\n",
    "#     valid_df = pd.DataFrame(temp,columns=['Subject','relation','Object'])\n",
    "# with open('./data/freebase_mtr100_mte100-test.txt','r') as f:\n",
    "#     temp = np.array([i.split() for i in f.readlines()])\n",
    "#     test_df = pd.DataFrame(temp,columns=['Subject','relation','Object'])"
   ]
  },
  {
   "cell_type": "code",
   "execution_count": 9,
   "id": "5ffc4f79",
   "metadata": {},
   "outputs": [],
   "source": [
    "data = list(set(train_df['Subject']) | set(train_df['Object']))\n",
    "subj_obj_dic = dict(zip(data,range(len(data))))\n",
    "data = list(set(train_df['relation']))\n",
    "relation_dic = dict(zip(data,range(len(data))))"
   ]
  },
  {
   "cell_type": "code",
   "execution_count": 10,
   "id": "d68262f7",
   "metadata": {},
   "outputs": [
    {
     "data": {
      "text/plain": [
       "['Create']"
      ]
     },
     "execution_count": 10,
     "metadata": {},
     "output_type": "execute_result"
    }
   ],
   "source": [
    "data"
   ]
  },
  {
   "cell_type": "code",
   "execution_count": 11,
   "id": "ff845c7c",
   "metadata": {
    "scrolled": true
   },
   "outputs": [
    {
     "name": "stderr",
     "output_type": "stream",
     "text": [
      "/workdir/security/home/junjiehuang2468/.local/lib/python3.6/site-packages/ipykernel_launcher.py:1: SettingWithCopyWarning: \n",
      "A value is trying to be set on a copy of a slice from a DataFrame.\n",
      "Try using .loc[row_indexer,col_indexer] = value instead\n",
      "\n",
      "See the caveats in the documentation: https://pandas.pydata.org/pandas-docs/stable/user_guide/indexing.html#returning-a-view-versus-a-copy\n",
      "  \"\"\"Entry point for launching an IPython kernel.\n",
      "/workdir/security/home/junjiehuang2468/.local/lib/python3.6/site-packages/ipykernel_launcher.py:2: SettingWithCopyWarning: \n",
      "A value is trying to be set on a copy of a slice from a DataFrame.\n",
      "Try using .loc[row_indexer,col_indexer] = value instead\n",
      "\n",
      "See the caveats in the documentation: https://pandas.pydata.org/pandas-docs/stable/user_guide/indexing.html#returning-a-view-versus-a-copy\n",
      "  \n",
      "/workdir/security/home/junjiehuang2468/.local/lib/python3.6/site-packages/ipykernel_launcher.py:3: SettingWithCopyWarning: \n",
      "A value is trying to be set on a copy of a slice from a DataFrame.\n",
      "Try using .loc[row_indexer,col_indexer] = value instead\n",
      "\n",
      "See the caveats in the documentation: https://pandas.pydata.org/pandas-docs/stable/user_guide/indexing.html#returning-a-view-versus-a-copy\n",
      "  This is separate from the ipykernel package so we can avoid doing imports until\n"
     ]
    }
   ],
   "source": [
    "train_df['Subject'] = train_df['Subject'].map(lambda x: subj_obj_dic.get(x,len(subj_obj_dic)))\n",
    "train_df['Object'] = train_df['Object'].map(lambda x: subj_obj_dic.get(x,len(subj_obj_dic)))\n",
    "train_df['relation'] = train_df['relation'].map(lambda x: relation_dic.get(x,len(relation_dic)))\n",
    "\n",
    "valid_df['Subject'] = valid_df['Subject'].map(lambda x: subj_obj_dic.get(x,len(subj_obj_dic)))\n",
    "valid_df['Object'] = valid_df['Object'].map(lambda x: subj_obj_dic.get(x,len(subj_obj_dic)))\n",
    "valid_df['relation'] = valid_df['relation'].map(lambda x: relation_dic.get(x,len(relation_dic)))\n",
    "\n",
    "test_df['Subject'] = test_df['Subject'].map(lambda x: subj_obj_dic.get(x,len(subj_obj_dic)))\n",
    "test_df['Object'] = test_df['Object'].map(lambda x: subj_obj_dic.get(x,len(subj_obj_dic)))\n",
    "test_df['relation'] = test_df['relation'].map(lambda x: relation_dic.get(x,len(relation_dic)))"
   ]
  },
  {
   "cell_type": "code",
   "execution_count": 12,
   "id": "4794fc7a",
   "metadata": {},
   "outputs": [],
   "source": [
    "class TransE_Model(nn.Module):\n",
    "    def __init__(self,entity_num:int,relation_num:int,embedding_dim:int,NORM:int=1):\n",
    "        super().__init__()\n",
    "        self.NORM = NORM\n",
    "        self.entity_num = entity_num\n",
    "        self.relation_num = relation_num\n",
    "        self.embedding_dim = embedding_dim\n",
    "        self.entity_embedding = self.generate_embedding(self.entity_num)\n",
    "        self.relation_embedding = self.generate_embedding(self.relation_num)\n",
    "        self.relation_embedding = self.normalize_embedding(self.relation_embedding)\n",
    "    \n",
    "    def generate_embedding(self,num):\n",
    "        emb = nn.Embedding(num_embeddings=num+1,embedding_dim=self.embedding_dim,padding_idx=num)\n",
    "        emb.weight.data.uniform_(-6/(self.embedding_dim**0.5),6/(self.embedding_dim**0.5))\n",
    "        return emb\n",
    "    \n",
    "    def normalize_embedding(self,emb):\n",
    "        emb.weight.data /= emb.weight.data.norm(p=self.NORM,dim=1,keepdim=True)\n",
    "        return emb\n",
    "    \n",
    "    def forward(self,subject,relation,object_):\n",
    "        x = self.entity_embedding(subject)\n",
    "        x += self.relation_embedding(relation)\n",
    "        x -= self.entity_embedding(object_)\n",
    "        return x.norm(p=self.NORM,dim=1)"
   ]
  },
  {
   "cell_type": "code",
   "execution_count": 13,
   "id": "d7b49474",
   "metadata": {},
   "outputs": [],
   "source": [
    "class Custom_Dataset(Dataset):\n",
    "    def __init__(self,df:pd.DataFrame):\n",
    "        super().__init__()\n",
    "        self.data = [tuple(i) for i in df.values]\n",
    "    def __len__(self):\n",
    "        return len(self.data)\n",
    "    def __getitem__(self,idx):\n",
    "        return self.data[idx]\n",
    "\n",
    "class Generate_Corrupted_Triple():\n",
    "    def __init__(self,df:pd.DataFrame):\n",
    "        self.obj = set(df['Object'])\n",
    "        self.subj = set(df['Subject'])\n",
    "        self.s_2_o_dic, self.o_2_s_dic = self.generate_dic(df)\n",
    "    def generate_dic(self,df):\n",
    "        s_2_o_dic = defaultdict(set)\n",
    "        o_2_s_dic = defaultdict(set)\n",
    "        for s,r,o,b_or_m in df.values:\n",
    "            s_2_o_dic[s].add(o)\n",
    "            o_2_s_dic[o].add(s)\n",
    "        return s_2_o_dic,o_2_s_dic\n",
    "    def __call__(self,subject,relation,object_):\n",
    "        new_subject = torch.tensor([sample(self.subj - self.o_2_s_dic[obj],k=1)[0] for obj in object_.cpu().numpy()])\n",
    "        new_object = torch.tensor([sample(self.obj - self.s_2_o_dic[subj],k=1)[0] for subj in subject.cpu().numpy()])\n",
    "        return [new_subject,relation,object_],[subject,relation,new_object]"
   ]
  },
  {
   "cell_type": "code",
   "execution_count": 14,
   "id": "0fea4876",
   "metadata": {},
   "outputs": [],
   "source": [
    "def To_Device(batch,device):\n",
    "    return [b.to(device) for b in batch]"
   ]
  },
  {
   "cell_type": "code",
   "execution_count": 15,
   "id": "13d15922",
   "metadata": {},
   "outputs": [],
   "source": [
    "model = TransE_Model(\n",
    "    entity_num=len(set(train_df['Subject']) | set(train_df['Object'])),\n",
    "    relation_num=len(set(train_df['relation'])),\n",
    "    embedding_dim=DIM,NORM=NORM\n",
    ").to(device)"
   ]
  },
  {
   "cell_type": "code",
   "execution_count": 16,
   "id": "7bebb09f",
   "metadata": {},
   "outputs": [],
   "source": [
    "# train, test = train_test_split(df, test_size=0.2)\n",
    "train_dataset = Custom_Dataset(train_df)\n",
    "train_dataloader = DataLoader(train_dataset,batch_size=BATCH_SIZE,shuffle=True)\n",
    "valid_dataset = Custom_Dataset(valid_df)\n",
    "valid_dataloader = DataLoader(valid_dataset,batch_size=16,shuffle=False)\n",
    "test_dataset = Custom_Dataset(test_df)\n",
    "test_dataloader = DataLoader(test_dataset,batch_size=len(test_dataset),shuffle=False)"
   ]
  },
  {
   "cell_type": "code",
   "execution_count": 17,
   "id": "3e688264",
   "metadata": {},
   "outputs": [],
   "source": [
    "def train(model,train_dataloader,loss_fn,optim_fn,device):\n",
    "    losses = []\n",
    "    bar = tqdm(enumerate(train_dataloader),total=len(train_dataloader))\n",
    "    target = torch.tensor([-1], dtype=torch.long, device=device)\n",
    "    for idx,batch in bar: \n",
    "        model.entity_embedding = model.normalize_embedding(model.entity_embedding)\n",
    "        corrupted_batch_1,corrupted_batch_2 = GCT(*batch[:3])\n",
    "        loss = 0.5*loss_fn(\n",
    "            model(*To_Device(batch[:3],device)),model(*To_Device(corrupted_batch_1,device)),target\n",
    "        ) + 0.5*loss_fn(\n",
    "            model(*To_Device(batch[:3],device)),model(*To_Device(corrupted_batch_2,device)),target\n",
    "        )\n",
    "        # if random() > 0.5:\n",
    "        #     loss = loss_fn(\n",
    "        #         model(*To_Device(batch,device)),model(*To_Device(corrupted_batch_1,device)),target\n",
    "        #     )\n",
    "        # else:\n",
    "        #     loss = loss_fn(\n",
    "        #         model(*To_Device(batch,device)),model(*To_Device(corrupted_batch_2,device)),target\n",
    "        #     )\n",
    "        optim_fn.zero_grad()\n",
    "        loss.backward()\n",
    "        optim_fn.step()\n",
    "        losses.append(loss.item())\n",
    "        bar.set_description(f'loss: {np.mean(losses):8.7f}')\n",
    "    return model"
   ]
  },
  {
   "cell_type": "code",
   "execution_count": 18,
   "id": "f5bd33c9",
   "metadata": {},
   "outputs": [],
   "source": [
    "def valid(model,dataloader,device,TOP_K):\n",
    "    top_k = []\n",
    "    bar = tqdm(dataloader)\n",
    "    for batch in bar:\n",
    "        subject,relation,object_ = To_Device(batch[:3],device)\n",
    "        temp = model.entity_embedding(subject)\n",
    "        temp += model.relation_embedding(relation)\n",
    "        # temp -= model.entity_embedding(object_)\n",
    "\n",
    "        shape = temp.shape\n",
    "        temp = temp.unsqueeze(1)\n",
    "        temp = temp.expand(shape[0],len(model.entity_embedding.weight),shape[1])\n",
    "\n",
    "        entity_weight = model.entity_embedding.weight.unsqueeze(0)\n",
    "        entity_weight = entity_weight.expand(shape[0],len(model.entity_embedding.weight),shape[1]).to(device)\n",
    "\n",
    "        values,indices = torch.topk((temp - entity_weight).norm(p=NORM,dim=2),k=TOP_K,largest=False)\n",
    "        top_k.append(torch.eq(indices , batch[2].unsqueeze(1).to(device)).float().sum().item()/len(batch[0]))\n",
    "        bar.set_description(f'top_{TOP_K}: {np.mean(top_k):8.7f}')\n",
    "    return np.mean(top_k)"
   ]
  },
  {
   "cell_type": "code",
   "execution_count": 19,
   "id": "a5742e8f",
   "metadata": {
    "scrolled": true
   },
   "outputs": [],
   "source": [
    "model = torch.load('./models/reording_by_lab_data/epoch_99_top_5_0.625.pt')"
   ]
  },
  {
   "cell_type": "code",
   "execution_count": 20,
   "id": "cb3acdbd",
   "metadata": {},
   "outputs": [],
   "source": [
    "import matplotlib.pyplot as plt\n",
    "from sklearn.manifold import TSNE\n",
    "PLOT_NUM = 1000"
   ]
  },
  {
   "cell_type": "code",
   "execution_count": 21,
   "id": "27d308e3",
   "metadata": {},
   "outputs": [],
   "source": [
    "tsne_model = TSNE(n_components=2)"
   ]
  },
  {
   "cell_type": "code",
   "execution_count": 22,
   "id": "54da64e9",
   "metadata": {},
   "outputs": [
    {
     "name": "stderr",
     "output_type": "stream",
     "text": [
      "100%|██████████| 1/1 [00:00<00:00, 84.54it/s]\n"
     ]
    }
   ],
   "source": [
    "embeddings = []\n",
    "bar = tqdm(enumerate(test_dataloader),total=len(test_dataloader))\n",
    "target = torch.tensor([-1], dtype=torch.long, device=device)\n",
    "for idx,batch in bar: \n",
    "    benign_or_malicious = batch[-1][:PLOT_NUM]\n",
    "    batch = To_Device(batch[:3],device)\n",
    "    x = model.entity_embedding(batch[0][:PLOT_NUM])\n",
    "    x += model.relation_embedding(batch[1][:PLOT_NUM])\n",
    "    x -= model.entity_embedding(batch[2][:PLOT_NUM])\n",
    "    embeddings.extend(x.tolist())"
   ]
  },
  {
   "cell_type": "code",
   "execution_count": 23,
   "id": "c960bbfb",
   "metadata": {},
   "outputs": [],
   "source": [
    "compress_embedding = tsne_model.fit_transform(embeddings)"
   ]
  },
  {
   "cell_type": "code",
   "execution_count": 24,
   "id": "a4aa4a31",
   "metadata": {},
   "outputs": [
    {
     "data": {
      "image/png": "[encoded data removed]",
      "text/plain": [
       "<Figure size 1080x720 with 1 Axes>"
      ]
     },
     "metadata": {
      "needs_background": "light"
     },
     "output_type": "display_data"
    }
   ],
   "source": [
    "plt.figure(figsize=(15,10))\n",
    "plt.scatter(compress_embedding[:,0],compress_embedding[:,1],s=10)\n",
    "for idx,(x,y,key) in enumerate(zip(compress_embedding[:,0],compress_embedding[:,1],benign_or_malicious)):\n",
    "    plt.text(x,y,','.join([str(idx),key]),ha='left',rotation=0,c='black' if key != 'benign' else 'red',fontsize=8)\n",
    "    # plt.text(x,y,key,ha='left',rotation=0,c='black' if key != 'benign' else 'red',fontsize=8)\n",
    "plt.show()"
   ]
  },
  {
   "cell_type": "code",
   "execution_count": 25,
   "id": "29d9d98d",
   "metadata": {},
   "outputs": [],
   "source": [
    "sub,rel,obj = batch[0].tolist(),batch[1].tolist(),batch[2].tolist()"
   ]
  },
  {
   "cell_type": "code",
   "execution_count": 26,
   "id": "57bb0ddd",
   "metadata": {},
   "outputs": [],
   "source": [
    "r_subj_obj_dic = {j:i for i,j in subj_obj_dic.items()}\n",
    "r_relation_dic = {j:i for i,j in relation_dic.items()}"
   ]
  },
  {
   "cell_type": "code",
   "execution_count": 27,
   "id": "267a2578",
   "metadata": {},
   "outputs": [],
   "source": [
    "sub = [r_subj_obj_dic.get(i,'OOV') for i in sub]\n",
    "rel = [r_relation_dic.get(i,'OOV') for i in rel]\n",
    "obj = [r_subj_obj_dic.get(i,'OOV') for i in obj]"
   ]
  },
  {
   "cell_type": "code",
   "execution_count": 28,
   "id": "5aafe732",
   "metadata": {},
   "outputs": [],
   "source": [
    "pd.DataFrame(zip(sub,rel,obj,benign_or_malicious),columns=['subject','relation','object','type']).to_csv('./recording_by_lab_data.csv',index=True)"
   ]
  }
 ],
 "metadata": {
  "kernelspec": {
   "display_name": "Python 3",
   "language": "python",
   "name": "python3"
  },
  "language_info": {
   "codemirror_mode": {
    "name": "ipython",
    "version": 3
   },
   "file_extension": ".py",
   "mimetype": "text/x-python",
   "name": "python",
   "nbconvert_exporter": "python",
   "pygments_lexer": "ipython3",
   "version": "3.6.9"
  }
 },
 "nbformat": 4,
 "nbformat_minor": 5
}
