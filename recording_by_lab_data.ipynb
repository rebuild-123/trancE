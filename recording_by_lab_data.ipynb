{
 "cells": [
  {
   "cell_type": "code",
   "execution_count": 1,
   "id": "5cc4a7ee",
   "metadata": {},
   "outputs": [],
   "source": [
    "import os\n",
    "import json\n",
    "import torch\n",
    "import numpy as np\n",
    "import pandas as pd\n",
    "from torch import nn\n",
    "from tqdm import tqdm\n",
    "from typing import List\n",
    "import multiprocessing as mp\n",
    "import torch.nn.functional as F\n",
    "from collections import defaultdict\n",
    "from random import sample, random, seed\n",
    "from torch.utils.data import Dataset, DataLoader\n",
    "from sklearn.model_selection import train_test_split\n",
    "\n",
    "os.environ['CUDA_VISIBLE_DEVICES'] = \"0\""
   ]
  },
  {
   "cell_type": "code",
   "execution_count": 2,
   "id": "818fbddc",
   "metadata": {},
   "outputs": [],
   "source": [
    "set_seed = 42\n",
    "torch.manual_seed(set_seed)\n",
    "torch.cuda.manual_seed(set_seed)\n",
    "torch.cuda.manual_seed_all(set_seed)\n",
    "np.random.seed(set_seed)\n",
    "seed(set_seed)"
   ]
  },
  {
   "cell_type": "code",
   "execution_count": 3,
   "id": "e99fe64c",
   "metadata": {},
   "outputs": [],
   "source": [
    "DIM = 50\n",
    "MARGIN = 1\n",
    "BATCH_SIZE = 512\n",
    "TOP_K = 5\n",
    "CORRUPTED_NUM = 100\n",
    "NORM = 2\n",
    "device = torch.device('cuda' if torch.cuda.is_available() else 'cpu')"
   ]
  },
  {
   "cell_type": "code",
   "execution_count": 4,
   "id": "5b96fb5e",
   "metadata": {},
   "outputs": [],
   "source": [
    "with open('./data/darpa_datasets/data/recording_by_lab/benign.json','rb') as f:\n",
    "    benign = json.load(f)\n",
    "    benign = benign['benign']\n",
    "with open('./data/darpa_datasets/data/recording_by_lab/CALDERA_malicious.json','rb') as f:\n",
    "    malicious = json.load(f)"
   ]
  },
  {
   "cell_type": "code",
   "execution_count": 5,
   "id": "59644118",
   "metadata": {},
   "outputs": [
    {
     "name": "stderr",
     "output_type": "stream",
     "text": [
      "100%|██████████| 70084/70084 [00:00<00:00, 1478342.39it/s]\n"
     ]
    }
   ],
   "source": [
    "'''\n",
    "object_'s key should not be in ['type','pid','srcip', 'srcport', 'protocol', 'type'], 英仁說的\n",
    "values of object_:'dstip' and object_:'dstport' should be concatenated, 英仁說的\n",
    "I choose cmdline from subject's keys and object_'s keys, so image is removed from object_.\n",
    "'''\n",
    "\n",
    "'''\n",
    "wating to fixed bugs.\n",
    "benign[i][subject]['cmdline'] or benign[i][relation] can be None. [Checking againg, when fixed the bugs.]\n",
    "\n",
    "'''\n",
    "\n",
    "\n",
    "temp = []\n",
    "filter_ls = ['type','image','pid','srcip', 'srcport', 'protocol', 'type']\n",
    "for i,(subject,relation,object_) in tqdm(enumerate(benign),total=len(benign)):\n",
    "    if benign[i][subject]['cmdline'] != None and benign[i][relation] != None:\n",
    "        filtered_object = list(filter(lambda x: x[0] not in filter_ls,benign[i][object_].items()))\n",
    "        object_data = ':'.join([str(y) for x,y in filtered_object])\n",
    "        temp.append([\n",
    "            benign[i][subject]['cmdline'], benign[i][relation], object_data, 'benign'\n",
    "        ])"
   ]
  },
  {
   "cell_type": "code",
   "execution_count": 6,
   "id": "83d167e8",
   "metadata": {},
   "outputs": [
    {
     "name": "stderr",
     "output_type": "stream",
     "text": [
      "100%|██████████| 69/69 [00:00<00:00, 11601.34it/s]\n"
     ]
    }
   ],
   "source": [
    "\n",
    "'''\n",
    "wating to fixed bugs.\n",
    "benign[i][subject]['cmdline'] or benign[i][relation] can be None. [Checking againg, when fixed the bugs.]\n",
    "'''\n",
    "\n",
    "filter_ls = ['type','image','pid','srcip', 'srcport', 'protocol', 'type']\n",
    "for key,values in tqdm(malicious.items(),total=len(malicious.items())):\n",
    "    for value in values:\n",
    "        for i,(subject,relation,object_) in enumerate(value['audit log']):\n",
    "            if value['audit log'][i][subject]['cmdline'] != None and value['audit log'][i][relation] != None:\n",
    "                filtered_object = list(filter(lambda x: x[0] not in filter_ls,benign[i][object_].items()))\n",
    "                object_data = ':'.join([str(y) for x,y in filtered_object])\n",
    "                temp.append([\n",
    "                    value['audit log'][i][subject]['cmdline'], value['audit log'][i][relation], object_data, value['TTP']\n",
    "                ])"
   ]
  },
  {
   "cell_type": "code",
   "execution_count": 7,
   "id": "aee98d95",
   "metadata": {},
   "outputs": [],
   "source": [
    "df = pd.DataFrame(temp,columns=['Subject','relation','Object','malicious_or_benign'])\n",
    "train_df, valid_df = train_test_split(df, test_size=0.2,random_state=42,shuffle=True)\n",
    "valid_df, test_df = train_test_split(valid_df, test_size=0.5,random_state=42,shuffle=True)"
   ]
  },
  {
   "cell_type": "code",
   "execution_count": 8,
   "id": "7fada83e",
   "metadata": {},
   "outputs": [],
   "source": [
    "# df = pd.read_csv('./transE_data.csv')\n",
    "# with open('./data/freebase_mtr100_mte100-train.txt','r') as f:\n",
    "#     temp = np.array([i.split() for i in f.readlines()])\n",
    "#     train_df = pd.DataFrame(temp,columns=['Subject','relation','Object'])\n",
    "# with open('./data/freebase_mtr100_mte100-valid.txt','r') as f:\n",
    "#     temp = np.array([i.split() for i in f.readlines()])\n",
    "#     valid_df = pd.DataFrame(temp,columns=['Subject','relation','Object'])\n",
    "# with open('./data/freebase_mtr100_mte100-test.txt','r') as f:\n",
    "#     temp = np.array([i.split() for i in f.readlines()])\n",
    "#     test_df = pd.DataFrame(temp,columns=['Subject','relation','Object'])"
   ]
  },
  {
   "cell_type": "code",
   "execution_count": 8,
   "id": "5ffc4f79",
   "metadata": {},
   "outputs": [],
   "source": [
    "data = list(set(train_df['Subject']) | set(train_df['Object']))\n",
    "subj_obj_dic = dict(zip(data,range(len(data))))\n",
    "data = list(set(train_df['relation']))\n",
    "relation_dic = dict(zip(data,range(len(data))))"
   ]
  },
  {
   "cell_type": "code",
   "execution_count": 9,
   "id": "5f8fa68a",
   "metadata": {},
   "outputs": [
    {
     "name": "stdout",
     "output_type": "stream",
     "text": [
      "355\n"
     ]
    }
   ],
   "source": [
    "print(len(subj_obj_dic))"
   ]
  },
  {
   "cell_type": "code",
   "execution_count": 10,
   "id": "ff845c7c",
   "metadata": {
    "scrolled": true
   },
   "outputs": [
    {
     "name": "stderr",
     "output_type": "stream",
     "text": [
      "/workdir/security/home/junjiehuang2468/.local/lib/python3.6/site-packages/ipykernel_launcher.py:1: SettingWithCopyWarning: \n",
      "A value is trying to be set on a copy of a slice from a DataFrame.\n",
      "Try using .loc[row_indexer,col_indexer] = value instead\n",
      "\n",
      "See the caveats in the documentation: https://pandas.pydata.org/pandas-docs/stable/user_guide/indexing.html#returning-a-view-versus-a-copy\n",
      "  \"\"\"Entry point for launching an IPython kernel.\n",
      "/workdir/security/home/junjiehuang2468/.local/lib/python3.6/site-packages/ipykernel_launcher.py:2: SettingWithCopyWarning: \n",
      "A value is trying to be set on a copy of a slice from a DataFrame.\n",
      "Try using .loc[row_indexer,col_indexer] = value instead\n",
      "\n",
      "See the caveats in the documentation: https://pandas.pydata.org/pandas-docs/stable/user_guide/indexing.html#returning-a-view-versus-a-copy\n",
      "  \n",
      "/workdir/security/home/junjiehuang2468/.local/lib/python3.6/site-packages/ipykernel_launcher.py:3: SettingWithCopyWarning: \n",
      "A value is trying to be set on a copy of a slice from a DataFrame.\n",
      "Try using .loc[row_indexer,col_indexer] = value instead\n",
      "\n",
      "See the caveats in the documentation: https://pandas.pydata.org/pandas-docs/stable/user_guide/indexing.html#returning-a-view-versus-a-copy\n",
      "  This is separate from the ipykernel package so we can avoid doing imports until\n"
     ]
    }
   ],
   "source": [
    "train_df['Subject'] = train_df['Subject'].map(lambda x: subj_obj_dic.get(x,len(subj_obj_dic)))\n",
    "train_df['Object'] = train_df['Object'].map(lambda x: subj_obj_dic.get(x,len(subj_obj_dic)))\n",
    "train_df['relation'] = train_df['relation'].map(lambda x: relation_dic.get(x,len(relation_dic)))\n",
    "\n",
    "valid_df['Subject'] = valid_df['Subject'].map(lambda x: subj_obj_dic.get(x,len(subj_obj_dic)))\n",
    "valid_df['Object'] = valid_df['Object'].map(lambda x: subj_obj_dic.get(x,len(subj_obj_dic)))\n",
    "valid_df['relation'] = valid_df['relation'].map(lambda x: relation_dic.get(x,len(relation_dic)))\n",
    "\n",
    "test_df['Subject'] = test_df['Subject'].map(lambda x: subj_obj_dic.get(x,len(subj_obj_dic)))\n",
    "test_df['Object'] = test_df['Object'].map(lambda x: subj_obj_dic.get(x,len(subj_obj_dic)))\n",
    "test_df['relation'] = test_df['relation'].map(lambda x: relation_dic.get(x,len(relation_dic)))"
   ]
  },
  {
   "cell_type": "code",
   "execution_count": 11,
   "id": "4794fc7a",
   "metadata": {},
   "outputs": [],
   "source": [
    "class TransE_Model(nn.Module):\n",
    "    def __init__(self,entity_num:int,relation_num:int,embedding_dim:int,NORM:int=1):\n",
    "        super().__init__()\n",
    "        self.NORM = NORM\n",
    "        self.entity_num = entity_num\n",
    "        self.relation_num = relation_num\n",
    "        self.embedding_dim = embedding_dim\n",
    "        self.entity_embedding = self.generate_embedding(self.entity_num)\n",
    "        self.relation_embedding = self.generate_embedding(self.relation_num)\n",
    "        self.relation_embedding = self.normalize_embedding(self.relation_embedding)\n",
    "    \n",
    "    def generate_embedding(self,num):\n",
    "        emb = nn.Embedding(num_embeddings=num+1,embedding_dim=self.embedding_dim,padding_idx=num)\n",
    "        emb.weight.data.uniform_(-6/(self.embedding_dim**0.5),6/(self.embedding_dim**0.5))\n",
    "        return emb\n",
    "    \n",
    "    def normalize_embedding(self,emb):\n",
    "        emb.weight.data /= emb.weight.data.norm(p=self.NORM,dim=1,keepdim=True)\n",
    "        return emb\n",
    "    \n",
    "    def forward(self,subject,relation,object_):\n",
    "        x = self.entity_embedding(subject)\n",
    "        x += self.relation_embedding(relation)\n",
    "        x -= self.entity_embedding(object_)\n",
    "        return x.norm(p=self.NORM,dim=1)"
   ]
  },
  {
   "cell_type": "code",
   "execution_count": 12,
   "id": "d7b49474",
   "metadata": {},
   "outputs": [],
   "source": [
    "class Custom_Dataset(Dataset):\n",
    "    def __init__(self,df:pd.DataFrame):\n",
    "        super().__init__()\n",
    "        self.data = [tuple(i) for i in df.values]\n",
    "    def __len__(self):\n",
    "        return len(self.data)\n",
    "    def __getitem__(self,idx):\n",
    "        return self.data[idx]\n",
    "\n",
    "class Generate_Corrupted_Triple():\n",
    "    def __init__(self,df:pd.DataFrame):\n",
    "        self.obj = set(df['Object'])\n",
    "        self.subj = set(df['Subject'])\n",
    "        self.s_2_o_dic, self.o_2_s_dic = self.generate_dic(df)\n",
    "    def generate_dic(self,df):\n",
    "        s_2_o_dic = defaultdict(set)\n",
    "        o_2_s_dic = defaultdict(set)\n",
    "        for s,r,o,b_or_m in df.values:\n",
    "            s_2_o_dic[s].add(o)\n",
    "            o_2_s_dic[o].add(s)\n",
    "        return s_2_o_dic,o_2_s_dic\n",
    "    def __call__(self,subject,relation,object_):\n",
    "        new_subject = torch.tensor([sample(self.subj - self.o_2_s_dic[obj],k=1)[0] for obj in object_.cpu().numpy()])\n",
    "        new_object = torch.tensor([sample(self.obj - self.s_2_o_dic[subj],k=1)[0] for subj in subject.cpu().numpy()])\n",
    "        return [new_subject,relation,object_],[subject,relation,new_object]\n",
    "    \n",
    "class Generate_Corrupted_Triple():\n",
    "    def __init__(self,df:pd.DataFrame):\n",
    "        self.obj_dic, self.subj_dic = self.generate_dic(df)\n",
    "    def generate_dic(self,df):\n",
    "        obj = set(df['Object'])\n",
    "        subj = set(df['Subject'])\n",
    "        subj_dic = defaultdict(set)\n",
    "        obj_dic = defaultdict(set)\n",
    "        s_2_o_dic = defaultdict(set)\n",
    "        o_2_s_dic = defaultdict(set)\n",
    "        for s,r,o,b_or_m in df.values:\n",
    "            s_2_o_dic[s].add(o)\n",
    "            o_2_s_dic[o].add(s)\n",
    "        for key,value in o_2_s_dic.items():\n",
    "            obj_dic[key] = subj - value\n",
    "        for key,value in s_2_o_dic.items():\n",
    "            subj_dic[key] = obj - value\n",
    "        return obj_dic,subj_dic\n",
    "    def __call__(self,subject,relation,object_):\n",
    "        new_subject = torch.tensor([sample(self.obj_dic[obj], k=1)[0] for obj in object_.cpu().numpy()])\n",
    "        new_object = torch.tensor([sample(self.subj_dic[subj], k=1)[0] for subj in subject.cpu().numpy()])\n",
    "        return [new_subject,relation,object_],[subject,relation,new_object]"
   ]
  },
  {
   "cell_type": "code",
   "execution_count": 13,
   "id": "0fea4876",
   "metadata": {},
   "outputs": [],
   "source": [
    "def To_Device(batch,device):\n",
    "    return [b.to(device) for b in batch]"
   ]
  },
  {
   "cell_type": "code",
   "execution_count": 14,
   "id": "13d15922",
   "metadata": {},
   "outputs": [],
   "source": [
    "model = TransE_Model(\n",
    "    entity_num=len(set(train_df['Subject']) | set(train_df['Object'])),\n",
    "    relation_num=len(set(train_df['relation'])),\n",
    "    embedding_dim=DIM,NORM=NORM\n",
    ").to(device)\n",
    "optim_fn = torch.optim.Adam(model.parameters())\n",
    "loss_fn = nn.MarginRankingLoss(margin=MARGIN).to(device)\n",
    "GCT = Generate_Corrupted_Triple(train_df)"
   ]
  },
  {
   "cell_type": "code",
   "execution_count": 15,
   "id": "7bebb09f",
   "metadata": {},
   "outputs": [],
   "source": [
    "# train, test = train_test_split(df, test_size=0.2)\n",
    "train_dataset = Custom_Dataset(train_df)\n",
    "train_dataloader = DataLoader(train_dataset,batch_size=BATCH_SIZE,shuffle=True)\n",
    "valid_dataset = Custom_Dataset(valid_df)\n",
    "valid_dataloader = DataLoader(valid_dataset,batch_size=16,shuffle=False)\n",
    "test_dataset = Custom_Dataset(test_df)\n",
    "test_dataloader = DataLoader(test_dataset,batch_size=len(test_dataset),shuffle=False)"
   ]
  },
  {
   "cell_type": "code",
   "execution_count": 16,
   "id": "3e688264",
   "metadata": {},
   "outputs": [],
   "source": [
    "def train(model,train_dataloader,loss_fn,optim_fn,device):\n",
    "    losses = []\n",
    "    bar = tqdm(enumerate(train_dataloader),total=len(train_dataloader))\n",
    "    target = torch.tensor([-1], dtype=torch.long, device=device)\n",
    "    for idx,batch in bar: \n",
    "        model.entity_embedding = model.normalize_embedding(model.entity_embedding)\n",
    "        corrupted_batch_1,corrupted_batch_2 = GCT(*batch[:3])\n",
    "        loss = 0.5*loss_fn(\n",
    "            model(*To_Device(batch[:3],device)),model(*To_Device(corrupted_batch_1,device)),target\n",
    "        ) + 0.5*loss_fn(\n",
    "            model(*To_Device(batch[:3],device)),model(*To_Device(corrupted_batch_2,device)),target\n",
    "        )\n",
    "        # if random() > 0.5:\n",
    "        #     loss = loss_fn(\n",
    "        #         model(*To_Device(batch,device)),model(*To_Device(corrupted_batch_1,device)),target\n",
    "        #     )\n",
    "        # else:\n",
    "        #     loss = loss_fn(\n",
    "        #         model(*To_Device(batch,device)),model(*To_Device(corrupted_batch_2,device)),target\n",
    "        #     )\n",
    "        optim_fn.zero_grad()\n",
    "        loss.backward()\n",
    "        optim_fn.step()\n",
    "        losses.append(loss.item())\n",
    "        bar.set_description(f'loss: {np.mean(losses):8.7f}')\n",
    "    return model"
   ]
  },
  {
   "cell_type": "code",
   "execution_count": 17,
   "id": "f5bd33c9",
   "metadata": {},
   "outputs": [],
   "source": [
    "def valid(model,dataloader,device,TOP_K):\n",
    "    top_k = []\n",
    "    bar = tqdm(dataloader)\n",
    "    for batch in bar:\n",
    "        subject,relation,object_ = To_Device(batch[:3],device)\n",
    "        temp = model.entity_embedding(subject)\n",
    "        temp += model.relation_embedding(relation)\n",
    "        # temp -= model.entity_embedding(object_)\n",
    "\n",
    "        shape = temp.shape\n",
    "        temp = temp.unsqueeze(1)\n",
    "        temp = temp.expand(shape[0],len(model.entity_embedding.weight),shape[1])\n",
    "\n",
    "        entity_weight = model.entity_embedding.weight.unsqueeze(0)\n",
    "        entity_weight = entity_weight.expand(shape[0],len(model.entity_embedding.weight),shape[1]).to(device)\n",
    "\n",
    "        values,indices = torch.topk((temp - entity_weight).norm(p=NORM,dim=2),k=TOP_K,largest=False)\n",
    "        top_k.append(torch.eq(indices , batch[2].unsqueeze(1).to(device)).float().sum().item()/len(batch[0]))\n",
    "        bar.set_description(f'top_{TOP_K}: {np.mean(top_k):8.7f}')\n",
    "    return np.mean(top_k)"
   ]
  },
  {
   "cell_type": "code",
   "execution_count": 18,
   "id": "a5742e8f",
   "metadata": {
    "scrolled": true
   },
   "outputs": [
    {
     "name": "stderr",
     "output_type": "stream",
     "text": [
      "loss: 1.0060661: 100%|██████████| 2/2 [00:00<00:00, 40.19it/s]\n",
      "top_5: 0.0019531: 100%|██████████| 2/2 [00:00<00:00, 225.19it/s]\n",
      "top_5: 0.0520833: 100%|██████████| 6/6 [00:00<00:00, 381.21it/s]\n"
     ]
    },
    {
     "name": "stdout",
     "output_type": "stream",
     "text": [
      "0\n"
     ]
    },
    {
     "name": "stderr",
     "output_type": "stream",
     "text": [
      "loss: 0.9974366: 100%|██████████| 2/2 [00:00<00:00, 63.95it/s]\n",
      "top_5: 0.0029297: 100%|██████████| 2/2 [00:00<00:00, 310.51it/s]\n",
      "top_5: 0.0520833: 100%|██████████| 6/6 [00:00<00:00, 398.74it/s]\n"
     ]
    },
    {
     "name": "stdout",
     "output_type": "stream",
     "text": [
      "1\n"
     ]
    },
    {
     "name": "stderr",
     "output_type": "stream",
     "text": [
      "loss: 0.9833966: 100%|██████████| 2/2 [00:00<00:00, 64.53it/s]\n",
      "top_5: 0.0050395: 100%|██████████| 2/2 [00:00<00:00, 324.99it/s]\n",
      "top_5: 0.0520833: 100%|██████████| 6/6 [00:00<00:00, 344.22it/s]\n"
     ]
    },
    {
     "name": "stdout",
     "output_type": "stream",
     "text": [
      "2\n"
     ]
    },
    {
     "name": "stderr",
     "output_type": "stream",
     "text": [
      "loss: 0.9760751: 100%|██████████| 2/2 [00:00<00:00, 61.41it/s]\n",
      "top_5: 0.0071494: 100%|██████████| 2/2 [00:00<00:00, 291.30it/s]\n",
      "top_5: 0.0520833: 100%|██████████| 6/6 [00:00<00:00, 355.23it/s]\n"
     ]
    },
    {
     "name": "stdout",
     "output_type": "stream",
     "text": [
      "3\n"
     ]
    },
    {
     "name": "stderr",
     "output_type": "stream",
     "text": [
      "loss: 0.9606021: 100%|██████████| 2/2 [00:00<00:00, 60.35it/s]\n",
      "top_5: 0.0061728: 100%|██████████| 2/2 [00:00<00:00, 318.78it/s]\n",
      "top_5: 0.0520833: 100%|██████████| 6/6 [00:00<00:00, 355.96it/s]\n"
     ]
    },
    {
     "name": "stdout",
     "output_type": "stream",
     "text": [
      "4\n"
     ]
    },
    {
     "name": "stderr",
     "output_type": "stream",
     "text": [
      "loss: 0.9560658: 100%|██████████| 2/2 [00:00<00:00, 57.28it/s]\n",
      "top_5: 0.0019531: 100%|██████████| 2/2 [00:00<00:00, 310.77it/s]\n",
      "top_5: 0.0520833: 100%|██████████| 6/6 [00:00<00:00, 380.94it/s]\n"
     ]
    },
    {
     "name": "stdout",
     "output_type": "stream",
     "text": [
      "5\n"
     ]
    },
    {
     "name": "stderr",
     "output_type": "stream",
     "text": [
      "loss: 0.9470661: 100%|██████████| 2/2 [00:00<00:00, 59.30it/s]\n",
      "top_5: 0.0040630: 100%|██████████| 2/2 [00:00<00:00, 297.32it/s]\n",
      "top_5: 0.0520833: 100%|██████████| 6/6 [00:00<00:00, 376.37it/s]\n"
     ]
    },
    {
     "name": "stdout",
     "output_type": "stream",
     "text": [
      "6\n"
     ]
    },
    {
     "name": "stderr",
     "output_type": "stream",
     "text": [
      "loss: 0.9422578: 100%|██████████| 2/2 [00:00<00:00, 59.93it/s]\n",
      "top_5: 0.0019531: 100%|██████████| 2/2 [00:00<00:00, 261.55it/s]\n",
      "top_5: 0.0520833: 100%|██████████| 6/6 [00:00<00:00, 383.91it/s]\n"
     ]
    },
    {
     "name": "stdout",
     "output_type": "stream",
     "text": [
      "7\n"
     ]
    },
    {
     "name": "stderr",
     "output_type": "stream",
     "text": [
      "loss: 0.9198491: 100%|██████████| 2/2 [00:00<00:00, 62.15it/s]\n",
      "top_5: 0.0019531: 100%|██████████| 2/2 [00:00<00:00, 318.85it/s]\n",
      "top_5: 0.0520833: 100%|██████████| 6/6 [00:00<00:00, 394.26it/s]\n"
     ]
    },
    {
     "name": "stdout",
     "output_type": "stream",
     "text": [
      "8\n"
     ]
    },
    {
     "name": "stderr",
     "output_type": "stream",
     "text": [
      "loss: 0.9130813: 100%|██████████| 2/2 [00:00<00:00, 63.39it/s]\n",
      "top_5: 0.0040630: 100%|██████████| 2/2 [00:00<00:00, 251.77it/s]\n",
      "top_5: 0.0520833: 100%|██████████| 6/6 [00:00<00:00, 351.78it/s]\n"
     ]
    },
    {
     "name": "stdout",
     "output_type": "stream",
     "text": [
      "9\n"
     ]
    },
    {
     "name": "stderr",
     "output_type": "stream",
     "text": [
      "loss: 0.9039426: 100%|██████████| 2/2 [00:00<00:00, 59.91it/s]\n",
      "top_5: 0.0019531: 100%|██████████| 2/2 [00:00<00:00, 286.31it/s]\n",
      "top_5: 0.0520833: 100%|██████████| 6/6 [00:00<00:00, 349.05it/s]\n"
     ]
    },
    {
     "name": "stdout",
     "output_type": "stream",
     "text": [
      "10\n"
     ]
    },
    {
     "name": "stderr",
     "output_type": "stream",
     "text": [
      "loss: 0.8850340: 100%|██████████| 2/2 [00:00<00:00, 57.18it/s]\n",
      "top_5: 0.2146267: 100%|██████████| 2/2 [00:00<00:00, 310.15it/s]\n",
      "top_5: 0.2291667: 100%|██████████| 6/6 [00:00<00:00, 364.74it/s]\n"
     ]
    },
    {
     "name": "stdout",
     "output_type": "stream",
     "text": [
      "11\n"
     ]
    },
    {
     "name": "stderr",
     "output_type": "stream",
     "text": [
      "loss: 0.8794541: 100%|██████████| 2/2 [00:00<00:00, 61.74it/s]\n",
      "top_5: 0.2208357: 100%|██████████| 2/2 [00:00<00:00, 300.77it/s]\n",
      "top_5: 0.2604167: 100%|██████████| 6/6 [00:00<00:00, 360.06it/s]\n"
     ]
    },
    {
     "name": "stdout",
     "output_type": "stream",
     "text": [
      "12\n"
     ]
    },
    {
     "name": "stderr",
     "output_type": "stream",
     "text": [
      "loss: 0.8748138: 100%|██████████| 2/2 [00:00<00:00, 61.34it/s]\n",
      "top_5: 0.2440442: 100%|██████████| 2/2 [00:00<00:00, 313.04it/s]\n",
      "top_5: 0.2604167: 100%|██████████| 6/6 [00:00<00:00, 383.25it/s]\n"
     ]
    },
    {
     "name": "stdout",
     "output_type": "stream",
     "text": [
      "13\n"
     ]
    },
    {
     "name": "stderr",
     "output_type": "stream",
     "text": [
      "loss: 0.8618557: 100%|██████████| 2/2 [00:00<00:00, 59.44it/s]\n",
      "top_5: 0.2281419: 100%|██████████| 2/2 [00:00<00:00, 291.40it/s]\n",
      "top_5: 0.2708333: 100%|██████████| 6/6 [00:00<00:00, 376.24it/s]\n"
     ]
    },
    {
     "name": "stdout",
     "output_type": "stream",
     "text": [
      "14\n"
     ]
    },
    {
     "name": "stderr",
     "output_type": "stream",
     "text": [
      "loss: 0.8474803: 100%|██████████| 2/2 [00:00<00:00, 68.37it/s]\n",
      "top_5: 0.2438874: 100%|██████████| 2/2 [00:00<00:00, 336.23it/s]\n",
      "top_5: 0.2708333: 100%|██████████| 6/6 [00:00<00:00, 404.91it/s]\n"
     ]
    },
    {
     "name": "stdout",
     "output_type": "stream",
     "text": [
      "15\n"
     ]
    },
    {
     "name": "stderr",
     "output_type": "stream",
     "text": [
      "loss: 0.8430454: 100%|██████████| 2/2 [00:00<00:00, 61.63it/s]\n",
      "top_5: 0.2343147: 100%|██████████| 2/2 [00:00<00:00, 265.19it/s]\n",
      "top_5: 0.2708333: 100%|██████████| 6/6 [00:00<00:00, 380.22it/s]\n"
     ]
    },
    {
     "name": "stdout",
     "output_type": "stream",
     "text": [
      "16\n"
     ]
    },
    {
     "name": "stderr",
     "output_type": "stream",
     "text": [
      "loss: 0.8377139: 100%|██████████| 2/2 [00:00<00:00, 61.25it/s]\n",
      "top_5: 0.2427541: 100%|██████████| 2/2 [00:00<00:00, 160.97it/s]\n",
      "top_5: 0.2708333: 100%|██████████| 6/6 [00:00<00:00, 419.86it/s]\n"
     ]
    },
    {
     "name": "stdout",
     "output_type": "stream",
     "text": [
      "17\n"
     ]
    },
    {
     "name": "stderr",
     "output_type": "stream",
     "text": [
      "loss: 0.8251181: 100%|██████████| 2/2 [00:00<00:00, 66.73it/s]\n",
      "top_5: 0.2529900: 100%|██████████| 2/2 [00:00<00:00, 329.16it/s]\n",
      "top_5: 0.2708333: 100%|██████████| 6/6 [00:00<00:00, 373.42it/s]\n"
     ]
    },
    {
     "name": "stdout",
     "output_type": "stream",
     "text": [
      "18\n"
     ]
    },
    {
     "name": "stderr",
     "output_type": "stream",
     "text": [
      "loss: 0.8080991: 100%|██████████| 2/2 [00:00<00:00, 61.51it/s]\n",
      "top_5: 0.2572097: 100%|██████████| 2/2 [00:00<00:00, 316.17it/s]\n",
      "top_5: 0.2708333: 100%|██████████| 6/6 [00:00<00:00, 378.36it/s]\n"
     ]
    },
    {
     "name": "stdout",
     "output_type": "stream",
     "text": [
      "19\n"
     ]
    },
    {
     "name": "stderr",
     "output_type": "stream",
     "text": [
      "loss: 0.7959717: 100%|██████████| 2/2 [00:00<00:00, 61.17it/s]\n",
      "top_5: 0.2422840: 100%|██████████| 2/2 [00:00<00:00, 311.55it/s]\n",
      "top_5: 0.2708333: 100%|██████████| 6/6 [00:00<00:00, 379.11it/s]\n"
     ]
    },
    {
     "name": "stdout",
     "output_type": "stream",
     "text": [
      "20\n"
     ]
    },
    {
     "name": "stderr",
     "output_type": "stream",
     "text": [
      "loss: 0.7889735: 100%|██████████| 2/2 [00:00<00:00, 61.69it/s]\n",
      "top_5: 0.2526765: 100%|██████████| 2/2 [00:00<00:00, 321.10it/s]\n",
      "top_5: 0.2708333: 100%|██████████| 6/6 [00:00<00:00, 354.97it/s]\n"
     ]
    },
    {
     "name": "stdout",
     "output_type": "stream",
     "text": [
      "21\n"
     ]
    },
    {
     "name": "stderr",
     "output_type": "stream",
     "text": [
      "loss: 0.7725810: 100%|██████████| 2/2 [00:00<00:00, 61.24it/s]\n",
      "top_5: 0.2452136: 100%|██████████| 2/2 [00:00<00:00, 325.89it/s]\n",
      "top_5: 0.2708333: 100%|██████████| 6/6 [00:00<00:00, 387.07it/s]\n"
     ]
    },
    {
     "name": "stdout",
     "output_type": "stream",
     "text": [
      "22\n"
     ]
    },
    {
     "name": "stderr",
     "output_type": "stream",
     "text": [
      "loss: 0.7700590: 100%|██████████| 2/2 [00:00<00:00, 62.11it/s]\n",
      "top_5: 0.2682653: 100%|██████████| 2/2 [00:00<00:00, 314.19it/s]\n",
      "top_5: 0.2708333: 100%|██████████| 6/6 [00:00<00:00, 370.93it/s]\n"
     ]
    },
    {
     "name": "stdout",
     "output_type": "stream",
     "text": [
      "23\n"
     ]
    },
    {
     "name": "stderr",
     "output_type": "stream",
     "text": [
      "loss: 0.7613860: 100%|██████████| 2/2 [00:00<00:00, 61.59it/s]\n",
      "top_5: 0.2543162: 100%|██████████| 2/2 [00:00<00:00, 312.88it/s]\n",
      "top_5: 0.2708333: 100%|██████████| 6/6 [00:00<00:00, 396.45it/s]\n"
     ]
    },
    {
     "name": "stdout",
     "output_type": "stream",
     "text": [
      "24\n"
     ]
    },
    {
     "name": "stderr",
     "output_type": "stream",
     "text": [
      "loss: 0.7497665: 100%|██████████| 2/2 [00:00<00:00, 63.00it/s]\n",
      "top_5: 0.2725212: 100%|██████████| 2/2 [00:00<00:00, 284.49it/s]\n",
      "top_5: 0.3437500: 100%|██████████| 6/6 [00:00<00:00, 368.87it/s]\n"
     ]
    },
    {
     "name": "stdout",
     "output_type": "stream",
     "text": [
      "25\n"
     ]
    },
    {
     "name": "stderr",
     "output_type": "stream",
     "text": [
      "loss: 0.7450907: 100%|██████████| 2/2 [00:00<00:00, 60.67it/s]\n",
      "top_5: 0.2649016: 100%|██████████| 2/2 [00:00<00:00, 314.51it/s]\n",
      "top_5: 0.3437500: 100%|██████████| 6/6 [00:00<00:00, 369.57it/s]\n"
     ]
    },
    {
     "name": "stdout",
     "output_type": "stream",
     "text": [
      "26\n"
     ]
    },
    {
     "name": "stderr",
     "output_type": "stream",
     "text": [
      "loss: 0.7294410: 100%|██████████| 2/2 [00:00<00:00, 62.11it/s]\n",
      "top_5: 0.2886164: 100%|██████████| 2/2 [00:00<00:00, 294.86it/s]\n",
      "top_5: 0.3541667: 100%|██████████| 6/6 [00:00<00:00, 379.95it/s]\n"
     ]
    },
    {
     "name": "stdout",
     "output_type": "stream",
     "text": [
      "27\n"
     ]
    },
    {
     "name": "stderr",
     "output_type": "stream",
     "text": [
      "loss: 0.7252056: 100%|██████████| 2/2 [00:00<00:00, 62.61it/s]\n",
      "top_5: 0.3061945: 100%|██████████| 2/2 [00:00<00:00, 322.29it/s]\n",
      "top_5: 0.3854167: 100%|██████████| 6/6 [00:00<00:00, 399.78it/s]\n"
     ]
    },
    {
     "name": "stdout",
     "output_type": "stream",
     "text": [
      "28\n"
     ]
    },
    {
     "name": "stderr",
     "output_type": "stream",
     "text": [
      "loss: 0.7189678: 100%|██████████| 2/2 [00:00<00:00, 61.14it/s]\n",
      "top_5: 0.3354191: 100%|██████████| 2/2 [00:00<00:00, 318.50it/s]\n",
      "top_5: 0.3854167: 100%|██████████| 6/6 [00:00<00:00, 382.34it/s]\n"
     ]
    },
    {
     "name": "stdout",
     "output_type": "stream",
     "text": [
      "29\n"
     ]
    },
    {
     "name": "stderr",
     "output_type": "stream",
     "text": [
      "loss: 0.6899713: 100%|██████████| 2/2 [00:00<00:00, 61.27it/s]\n",
      "top_5: 0.3317057: 100%|██████████| 2/2 [00:00<00:00, 291.17it/s]\n",
      "top_5: 0.3854167: 100%|██████████| 6/6 [00:00<00:00, 369.46it/s]\n"
     ]
    },
    {
     "name": "stdout",
     "output_type": "stream",
     "text": [
      "30\n"
     ]
    },
    {
     "name": "stderr",
     "output_type": "stream",
     "text": [
      "loss: 0.6815613: 100%|██████████| 2/2 [00:00<00:00, 60.11it/s]\n",
      "top_5: 0.3344787: 100%|██████████| 2/2 [00:00<00:00, 312.65it/s]\n",
      "top_5: 0.3854167: 100%|██████████| 6/6 [00:00<00:00, 368.10it/s]\n"
     ]
    },
    {
     "name": "stdout",
     "output_type": "stream",
     "text": [
      "31\n"
     ]
    },
    {
     "name": "stderr",
     "output_type": "stream",
     "text": [
      "loss: 0.6777540: 100%|██████████| 2/2 [00:00<00:00, 57.96it/s]\n",
      "top_5: 0.3625699: 100%|██████████| 2/2 [00:00<00:00, 300.94it/s]\n",
      "top_5: 0.3958333: 100%|██████████| 6/6 [00:00<00:00, 378.46it/s]\n"
     ]
    },
    {
     "name": "stdout",
     "output_type": "stream",
     "text": [
      "32\n"
     ]
    },
    {
     "name": "stderr",
     "output_type": "stream",
     "text": [
      "loss: 0.6603824: 100%|██████████| 2/2 [00:00<00:00, 63.93it/s]\n",
      "top_5: 0.3643663: 100%|██████████| 2/2 [00:00<00:00, 294.44it/s]\n",
      "top_5: 0.3958333: 100%|██████████| 6/6 [00:00<00:00, 393.79it/s]\n"
     ]
    },
    {
     "name": "stdout",
     "output_type": "stream",
     "text": [
      "33\n"
     ]
    },
    {
     "name": "stderr",
     "output_type": "stream",
     "text": [
      "loss: 0.6625229: 100%|██████████| 2/2 [00:00<00:00, 62.96it/s]\n",
      "top_5: 0.3710455: 100%|██████████| 2/2 [00:00<00:00, 301.64it/s]\n",
      "top_5: 0.3958333: 100%|██████████| 6/6 [00:00<00:00, 373.13it/s]\n"
     ]
    },
    {
     "name": "stdout",
     "output_type": "stream",
     "text": [
      "34\n"
     ]
    },
    {
     "name": "stderr",
     "output_type": "stream",
     "text": [
      "loss: 0.6539587: 100%|██████████| 2/2 [00:00<00:00, 61.84it/s]\n",
      "top_5: 0.3892506: 100%|██████████| 2/2 [00:00<00:00, 317.75it/s]\n",
      "top_5: 0.3958333: 100%|██████████| 6/6 [00:00<00:00, 382.15it/s]\n"
     ]
    },
    {
     "name": "stdout",
     "output_type": "stream",
     "text": [
      "35\n"
     ]
    },
    {
     "name": "stderr",
     "output_type": "stream",
     "text": [
      "loss: 0.6454775: 100%|██████████| 2/2 [00:00<00:00, 62.93it/s]\n",
      "top_5: 0.3853805: 100%|██████████| 2/2 [00:00<00:00, 223.02it/s]\n",
      "top_5: 0.4062500: 100%|██████████| 6/6 [00:00<00:00, 323.51it/s]\n"
     ]
    },
    {
     "name": "stdout",
     "output_type": "stream",
     "text": [
      "36\n"
     ]
    },
    {
     "name": "stderr",
     "output_type": "stream",
     "text": [
      "loss: 0.6320063: 100%|██████████| 2/2 [00:00<00:00, 57.44it/s]\n",
      "top_5: 0.4081187: 100%|██████████| 2/2 [00:00<00:00, 327.88it/s]\n",
      "top_5: 0.4062500: 100%|██████████| 6/6 [00:00<00:00, 375.54it/s]\n"
     ]
    },
    {
     "name": "stdout",
     "output_type": "stream",
     "text": [
      "37\n"
     ]
    },
    {
     "name": "stderr",
     "output_type": "stream",
     "text": [
      "loss: 0.6326158: 100%|██████████| 2/2 [00:00<00:00, 59.55it/s]\n",
      "top_5: 0.4053819: 100%|██████████| 2/2 [00:00<00:00, 315.97it/s]\n",
      "top_5: 0.4166667: 100%|██████████| 6/6 [00:00<00:00, 365.63it/s]\n"
     ]
    },
    {
     "name": "stdout",
     "output_type": "stream",
     "text": [
      "38\n"
     ]
    },
    {
     "name": "stderr",
     "output_type": "stream",
     "text": [
      "loss: 0.6071222: 100%|██████████| 2/2 [00:00<00:00, 61.45it/s]\n",
      "top_5: 0.4164376: 100%|██████████| 2/2 [00:00<00:00, 320.05it/s]\n",
      "top_5: 0.4479167: 100%|██████████| 6/6 [00:00<00:00, 386.96it/s]\n"
     ]
    },
    {
     "name": "stdout",
     "output_type": "stream",
     "text": [
      "39\n"
     ]
    },
    {
     "name": "stderr",
     "output_type": "stream",
     "text": [
      "loss: 0.6048484: 100%|██████████| 2/2 [00:00<00:00, 62.18it/s]\n",
      "top_5: 0.4347994: 100%|██████████| 2/2 [00:00<00:00, 335.33it/s]\n",
      "top_5: 0.4583333: 100%|██████████| 6/6 [00:00<00:00, 400.64it/s]\n"
     ]
    },
    {
     "name": "stdout",
     "output_type": "stream",
     "text": [
      "40\n"
     ]
    },
    {
     "name": "stderr",
     "output_type": "stream",
     "text": [
      "loss: 0.5974720: 100%|██████████| 2/2 [00:00<00:00, 59.83it/s]\n",
      "top_5: 0.4289762: 100%|██████████| 2/2 [00:00<00:00, 306.08it/s]\n",
      "top_5: 0.4687500: 100%|██████████| 6/6 [00:00<00:00, 368.22it/s]\n"
     ]
    },
    {
     "name": "stdout",
     "output_type": "stream",
     "text": [
      "41\n"
     ]
    },
    {
     "name": "stderr",
     "output_type": "stream",
     "text": [
      "loss: 0.5802451: 100%|██████████| 2/2 [00:00<00:00, 61.78it/s]\n",
      "top_5: 0.4497613: 100%|██████████| 2/2 [00:00<00:00, 286.96it/s]\n",
      "top_5: 0.4791667: 100%|██████████| 6/6 [00:00<00:00, 381.67it/s]\n"
     ]
    },
    {
     "name": "stdout",
     "output_type": "stream",
     "text": [
      "42\n"
     ]
    },
    {
     "name": "stderr",
     "output_type": "stream",
     "text": [
      "loss: 0.5698054: 100%|██████████| 2/2 [00:00<00:00, 62.84it/s]\n",
      "top_5: 0.4642168: 100%|██████████| 2/2 [00:00<00:00, 166.00it/s]\n",
      "top_5: 0.4895833: 100%|██████████| 6/6 [00:00<00:00, 418.68it/s]\n"
     ]
    },
    {
     "name": "stdout",
     "output_type": "stream",
     "text": [
      "43\n"
     ]
    },
    {
     "name": "stderr",
     "output_type": "stream",
     "text": [
      "loss: 0.5767213: 100%|██████████| 2/2 [00:00<00:00, 62.85it/s]\n",
      "top_5: 0.4895713: 100%|██████████| 2/2 [00:00<00:00, 308.03it/s]\n",
      "top_5: 0.5000000: 100%|██████████| 6/6 [00:00<00:00, 395.06it/s]\n"
     ]
    },
    {
     "name": "stdout",
     "output_type": "stream",
     "text": [
      "44\n"
     ]
    },
    {
     "name": "stderr",
     "output_type": "stream",
     "text": [
      "loss: 0.5777053: 100%|██████████| 2/2 [00:00<00:00, 63.57it/s]\n",
      "top_5: 0.5059799: 100%|██████████| 2/2 [00:00<00:00, 317.20it/s]\n",
      "top_5: 0.5104167: 100%|██████████| 6/6 [00:00<00:00, 336.66it/s]\n"
     ]
    },
    {
     "name": "stdout",
     "output_type": "stream",
     "text": [
      "45\n"
     ]
    },
    {
     "name": "stderr",
     "output_type": "stream",
     "text": [
      "loss: 0.5651115: 100%|██████████| 2/2 [00:00<00:00, 66.23it/s]\n",
      "top_5: 0.4887876: 100%|██████████| 2/2 [00:00<00:00, 311.12it/s]\n",
      "top_5: 0.5104167: 100%|██████████| 6/6 [00:00<00:00, 463.11it/s]\n"
     ]
    },
    {
     "name": "stdout",
     "output_type": "stream",
     "text": [
      "46\n"
     ]
    },
    {
     "name": "stderr",
     "output_type": "stream",
     "text": [
      "loss: 0.5507132: 100%|██████████| 2/2 [00:00<00:00, 71.73it/s]\n",
      "top_5: 0.5022666: 100%|██████████| 2/2 [00:00<00:00, 361.61it/s]\n",
      "top_5: 0.5104167: 100%|██████████| 6/6 [00:00<00:00, 458.93it/s]\n"
     ]
    },
    {
     "name": "stdout",
     "output_type": "stream",
     "text": [
      "47\n"
     ]
    },
    {
     "name": "stderr",
     "output_type": "stream",
     "text": [
      "loss: 0.5455146: 100%|██████████| 2/2 [00:00<00:00, 65.92it/s]\n",
      "top_5: 0.5100791: 100%|██████████| 2/2 [00:00<00:00, 334.45it/s]\n",
      "top_5: 0.5208333: 100%|██████████| 6/6 [00:00<00:00, 318.85it/s]\n"
     ]
    },
    {
     "name": "stdout",
     "output_type": "stream",
     "text": [
      "48\n"
     ]
    },
    {
     "name": "stderr",
     "output_type": "stream",
     "text": [
      "loss: 0.5338405: 100%|██████████| 2/2 [00:00<00:00, 58.76it/s]\n",
      "top_5: 0.5160952: 100%|██████████| 2/2 [00:00<00:00, 320.92it/s]\n",
      "top_5: 0.5208333: 100%|██████████| 6/6 [00:00<00:00, 373.46it/s]\n"
     ]
    },
    {
     "name": "stdout",
     "output_type": "stream",
     "text": [
      "49\n"
     ]
    },
    {
     "name": "stderr",
     "output_type": "stream",
     "text": [
      "loss: 0.5314465: 100%|██████████| 2/2 [00:00<00:00, 62.60it/s]\n",
      "top_5: 0.5178916: 100%|██████████| 2/2 [00:00<00:00, 328.28it/s]\n",
      "top_5: 0.5208333: 100%|██████████| 6/6 [00:00<00:00, 379.84it/s]\n"
     ]
    },
    {
     "name": "stdout",
     "output_type": "stream",
     "text": [
      "50\n"
     ]
    },
    {
     "name": "stderr",
     "output_type": "stream",
     "text": [
      "loss: 0.5156975: 100%|██████████| 2/2 [00:00<00:00, 62.44it/s]\n",
      "top_5: 0.5216411: 100%|██████████| 2/2 [00:00<00:00, 325.64it/s]\n",
      "top_5: 0.5208333: 100%|██████████| 6/6 [00:00<00:00, 394.33it/s]\n"
     ]
    },
    {
     "name": "stdout",
     "output_type": "stream",
     "text": [
      "51\n"
     ]
    },
    {
     "name": "stderr",
     "output_type": "stream",
     "text": [
      "loss: 0.5188842: 100%|██████████| 2/2 [00:00<00:00, 61.21it/s]\n",
      "top_5: 0.5466459: 100%|██████████| 2/2 [00:00<00:00, 320.31it/s]\n",
      "top_5: 0.5208333: 100%|██████████| 6/6 [00:00<00:00, 371.67it/s]\n"
     ]
    },
    {
     "name": "stdout",
     "output_type": "stream",
     "text": [
      "52\n"
     ]
    },
    {
     "name": "stderr",
     "output_type": "stream",
     "text": [
      "loss: 0.5160291: 100%|██████████| 2/2 [00:00<00:00, 62.17it/s]\n",
      "top_5: 0.5357832: 100%|██████████| 2/2 [00:00<00:00, 307.07it/s]\n",
      "top_5: 0.5208333: 100%|██████████| 6/6 [00:00<00:00, 382.12it/s]\n"
     ]
    },
    {
     "name": "stdout",
     "output_type": "stream",
     "text": [
      "53\n"
     ]
    },
    {
     "name": "stderr",
     "output_type": "stream",
     "text": [
      "loss: 0.4986025: 100%|██████████| 2/2 [00:00<00:00, 61.11it/s]\n",
      "top_5: 0.5283203: 100%|██████████| 2/2 [00:00<00:00, 287.21it/s]\n",
      "top_5: 0.5208333: 100%|██████████| 6/6 [00:00<00:00, 382.76it/s]\n"
     ]
    },
    {
     "name": "stdout",
     "output_type": "stream",
     "text": [
      "54\n"
     ]
    },
    {
     "name": "stderr",
     "output_type": "stream",
     "text": [
      "loss: 0.5016001: 100%|██████████| 2/2 [00:00<00:00, 62.25it/s]\n",
      "top_5: 0.5440659: 100%|██████████| 2/2 [00:00<00:00, 330.46it/s]\n",
      "top_5: 0.5416667: 100%|██████████| 6/6 [00:00<00:00, 374.25it/s]\n"
     ]
    },
    {
     "name": "stdout",
     "output_type": "stream",
     "text": [
      "55\n"
     ]
    },
    {
     "name": "stderr",
     "output_type": "stream",
     "text": [
      "loss: 0.4895180: 100%|██████████| 2/2 [00:00<00:00, 60.78it/s]\n",
      "top_5: 0.5439091: 100%|██████████| 2/2 [00:00<00:00, 325.49it/s]\n",
      "top_5: 0.5416667: 100%|██████████| 6/6 [00:00<00:00, 387.48it/s]\n"
     ]
    },
    {
     "name": "stdout",
     "output_type": "stream",
     "text": [
      "56\n"
     ]
    },
    {
     "name": "stderr",
     "output_type": "stream",
     "text": [
      "loss: 0.4966209: 100%|██████████| 2/2 [00:00<00:00, 61.73it/s]\n",
      "top_5: 0.5546152: 100%|██████████| 2/2 [00:00<00:00, 291.56it/s]\n",
      "top_5: 0.5416667: 100%|██████████| 6/6 [00:00<00:00, 355.76it/s]\n"
     ]
    },
    {
     "name": "stdout",
     "output_type": "stream",
     "text": [
      "57\n"
     ]
    },
    {
     "name": "stderr",
     "output_type": "stream",
     "text": [
      "loss: 0.4733863: 100%|██████████| 2/2 [00:00<00:00, 64.47it/s]\n",
      "top_5: 0.5471523: 100%|██████████| 2/2 [00:00<00:00, 323.27it/s]\n",
      "top_5: 0.5416667: 100%|██████████| 6/6 [00:00<00:00, 369.92it/s]\n"
     ]
    },
    {
     "name": "stdout",
     "output_type": "stream",
     "text": [
      "58\n"
     ]
    },
    {
     "name": "stderr",
     "output_type": "stream",
     "text": [
      "loss: 0.4751880: 100%|██████████| 2/2 [00:00<00:00, 59.87it/s]\n",
      "top_5: 0.5500820: 100%|██████████| 2/2 [00:00<00:00, 308.84it/s]\n",
      "top_5: 0.5416667: 100%|██████████| 6/6 [00:00<00:00, 393.37it/s]\n"
     ]
    },
    {
     "name": "stdout",
     "output_type": "stream",
     "text": [
      "59\n"
     ]
    },
    {
     "name": "stderr",
     "output_type": "stream",
     "text": [
      "loss: 0.4600096: 100%|██████████| 2/2 [00:00<00:00, 57.35it/s]\n",
      "top_5: 0.5458623: 100%|██████████| 2/2 [00:00<00:00, 317.59it/s]\n",
      "top_5: 0.5416667: 100%|██████████| 6/6 [00:00<00:00, 382.99it/s]\n"
     ]
    },
    {
     "name": "stdout",
     "output_type": "stream",
     "text": [
      "60\n"
     ]
    },
    {
     "name": "stderr",
     "output_type": "stream",
     "text": [
      "loss: 0.4740716: 100%|██████████| 2/2 [00:00<00:00, 53.39it/s]\n",
      "top_5: 0.5585214: 100%|██████████| 2/2 [00:00<00:00, 315.43it/s]\n",
      "top_5: 0.5520833: 100%|██████████| 6/6 [00:00<00:00, 380.49it/s]\n"
     ]
    },
    {
     "name": "stdout",
     "output_type": "stream",
     "text": [
      "61\n"
     ]
    },
    {
     "name": "stderr",
     "output_type": "stream",
     "text": [
      "loss: 0.4573870: 100%|██████████| 2/2 [00:00<00:00, 60.54it/s]\n",
      "top_5: 0.5698905: 100%|██████████| 2/2 [00:00<00:00, 316.87it/s]\n",
      "top_5: 0.5520833: 100%|██████████| 6/6 [00:00<00:00, 373.88it/s]\n"
     ]
    },
    {
     "name": "stdout",
     "output_type": "stream",
     "text": [
      "62\n"
     ]
    },
    {
     "name": "stderr",
     "output_type": "stream",
     "text": [
      "loss: 0.4644702: 100%|██████████| 2/2 [00:00<00:00, 64.16it/s]\n",
      "top_5: 0.5560981: 100%|██████████| 2/2 [00:00<00:00, 330.40it/s]\n",
      "top_5: 0.5729167: 100%|██████████| 6/6 [00:00<00:00, 373.69it/s]\n"
     ]
    },
    {
     "name": "stdout",
     "output_type": "stream",
     "text": [
      "63\n"
     ]
    },
    {
     "name": "stderr",
     "output_type": "stream",
     "text": [
      "loss: 0.4492093: 100%|██████████| 2/2 [00:00<00:00, 57.58it/s]\n",
      "top_5: 0.5655141: 100%|██████████| 2/2 [00:00<00:00, 333.07it/s]\n",
      "top_5: 0.5729167: 100%|██████████| 6/6 [00:00<00:00, 377.42it/s]\n"
     ]
    },
    {
     "name": "stdout",
     "output_type": "stream",
     "text": [
      "64\n"
     ]
    },
    {
     "name": "stderr",
     "output_type": "stream",
     "text": [
      "loss: 0.4535830: 100%|██████████| 2/2 [00:00<00:00, 61.23it/s]\n",
      "top_5: 0.5505883: 100%|██████████| 2/2 [00:00<00:00, 328.21it/s]\n",
      "top_5: 0.5729167: 100%|██████████| 6/6 [00:00<00:00, 368.67it/s]\n"
     ]
    },
    {
     "name": "stdout",
     "output_type": "stream",
     "text": [
      "65\n"
     ]
    },
    {
     "name": "stderr",
     "output_type": "stream",
     "text": [
      "loss: 0.4508622: 100%|██████████| 2/2 [00:00<00:00, 58.59it/s]\n",
      "top_5: 0.5726635: 100%|██████████| 2/2 [00:00<00:00, 295.47it/s]\n",
      "top_5: 0.5729167: 100%|██████████| 6/6 [00:00<00:00, 380.78it/s]\n"
     ]
    },
    {
     "name": "stdout",
     "output_type": "stream",
     "text": [
      "66\n"
     ]
    },
    {
     "name": "stderr",
     "output_type": "stream",
     "text": [
      "loss: 0.4445765: 100%|██████████| 2/2 [00:00<00:00, 62.53it/s]\n",
      "top_5: 0.5661772: 100%|██████████| 2/2 [00:00<00:00, 294.97it/s]\n",
      "top_5: 0.5729167: 100%|██████████| 6/6 [00:00<00:00, 315.65it/s]\n"
     ]
    },
    {
     "name": "stdout",
     "output_type": "stream",
     "text": [
      "67\n"
     ]
    },
    {
     "name": "stderr",
     "output_type": "stream",
     "text": [
      "loss: 0.4419477: 100%|██████████| 2/2 [00:00<00:00, 56.52it/s]\n",
      "top_5: 0.5786796: 100%|██████████| 2/2 [00:00<00:00, 221.50it/s]\n",
      "top_5: 0.5729167: 100%|██████████| 6/6 [00:00<00:00, 320.84it/s]\n"
     ]
    },
    {
     "name": "stdout",
     "output_type": "stream",
     "text": [
      "68\n"
     ]
    },
    {
     "name": "stderr",
     "output_type": "stream",
     "text": [
      "loss: 0.4244694: 100%|██████████| 2/2 [00:00<00:00, 56.58it/s]\n",
      "top_5: 0.5702402: 100%|██████████| 2/2 [00:00<00:00, 320.02it/s]\n",
      "top_5: 0.5729167: 100%|██████████| 6/6 [00:00<00:00, 388.28it/s]\n"
     ]
    },
    {
     "name": "stdout",
     "output_type": "stream",
     "text": [
      "69\n"
     ]
    },
    {
     "name": "stderr",
     "output_type": "stream",
     "text": [
      "loss: 0.4302487: 100%|██████████| 2/2 [00:00<00:00, 59.07it/s]\n",
      "top_5: 0.5869623: 100%|██████████| 2/2 [00:00<00:00, 313.49it/s]\n",
      "top_5: 0.5833333: 100%|██████████| 6/6 [00:00<00:00, 339.11it/s]\n"
     ]
    },
    {
     "name": "stdout",
     "output_type": "stream",
     "text": [
      "70\n"
     ]
    },
    {
     "name": "stderr",
     "output_type": "stream",
     "text": [
      "loss: 0.4516680: 100%|██████████| 2/2 [00:00<00:00, 63.67it/s]\n",
      "top_5: 0.5614873: 100%|██████████| 2/2 [00:00<00:00, 221.50it/s]\n",
      "top_5: 0.5833333: 100%|██████████| 6/6 [00:00<00:00, 344.21it/s]\n"
     ]
    },
    {
     "name": "stdout",
     "output_type": "stream",
     "text": [
      "71\n"
     ]
    },
    {
     "name": "stderr",
     "output_type": "stream",
     "text": [
      "loss: 0.4193427: 100%|██████████| 2/2 [00:00<00:00, 57.77it/s]\n",
      "top_5: 0.5793427: 100%|██████████| 2/2 [00:00<00:00, 329.62it/s]\n",
      "top_5: 0.5833333: 100%|██████████| 6/6 [00:00<00:00, 385.88it/s]\n"
     ]
    },
    {
     "name": "stdout",
     "output_type": "stream",
     "text": [
      "72\n"
     ]
    },
    {
     "name": "stderr",
     "output_type": "stream",
     "text": [
      "loss: 0.4051638: 100%|██████████| 2/2 [00:00<00:00, 57.15it/s]\n",
      "top_5: 0.6014178: 100%|██████████| 2/2 [00:00<00:00, 315.93it/s]\n",
      "top_5: 0.5833333: 100%|██████████| 6/6 [00:00<00:00, 375.17it/s]\n"
     ]
    },
    {
     "name": "stdout",
     "output_type": "stream",
     "text": [
      "73\n"
     ]
    },
    {
     "name": "stderr",
     "output_type": "stream",
     "text": [
      "loss: 0.4123694: 100%|██████████| 2/2 [00:00<00:00, 62.54it/s]\n",
      "top_5: 0.5590639: 100%|██████████| 2/2 [00:00<00:00, 212.40it/s]\n",
      "top_5: 0.5833333: 100%|██████████| 6/6 [00:00<00:00, 331.19it/s]\n"
     ]
    },
    {
     "name": "stdout",
     "output_type": "stream",
     "text": [
      "74\n"
     ]
    },
    {
     "name": "stderr",
     "output_type": "stream",
     "text": [
      "loss: 0.3999044: 100%|██████████| 2/2 [00:00<00:00, 58.24it/s]\n",
      "top_5: 0.5757861: 100%|██████████| 2/2 [00:00<00:00, 317.85it/s]\n",
      "top_5: 0.5833333: 100%|██████████| 6/6 [00:00<00:00, 382.80it/s]\n"
     ]
    },
    {
     "name": "stdout",
     "output_type": "stream",
     "text": [
      "75\n"
     ]
    },
    {
     "name": "stderr",
     "output_type": "stream",
     "text": [
      "loss: 0.4192633: 100%|██████████| 2/2 [00:00<00:00, 59.48it/s]\n",
      "top_5: 0.5863354: 100%|██████████| 2/2 [00:00<00:00, 250.15it/s]\n",
      "top_5: 0.5833333: 100%|██████████| 6/6 [00:00<00:00, 329.89it/s]\n"
     ]
    },
    {
     "name": "stdout",
     "output_type": "stream",
     "text": [
      "76\n"
     ]
    },
    {
     "name": "stderr",
     "output_type": "stream",
     "text": [
      "loss: 0.4105400: 100%|██████████| 2/2 [00:00<00:00, 55.99it/s]\n",
      "top_5: 0.5947748: 100%|██████████| 2/2 [00:00<00:00, 278.52it/s]\n",
      "top_5: 0.5937500: 100%|██████████| 6/6 [00:00<00:00, 392.56it/s]\n"
     ]
    },
    {
     "name": "stdout",
     "output_type": "stream",
     "text": [
      "77\n"
     ]
    },
    {
     "name": "stderr",
     "output_type": "stream",
     "text": [
      "loss: 0.4031276: 100%|██████████| 2/2 [00:00<00:00, 54.16it/s]\n",
      "top_5: 0.5988378: 100%|██████████| 2/2 [00:00<00:00, 314.84it/s]\n",
      "top_5: 0.5937500: 100%|██████████| 6/6 [00:00<00:00, 389.44it/s]\n"
     ]
    },
    {
     "name": "stdout",
     "output_type": "stream",
     "text": [
      "78\n"
     ]
    },
    {
     "name": "stderr",
     "output_type": "stream",
     "text": [
      "loss: 0.4036429: 100%|██████████| 2/2 [00:00<00:00, 63.04it/s]\n",
      "top_5: 0.5965712: 100%|██████████| 2/2 [00:00<00:00, 308.65it/s]\n",
      "top_5: 0.5937500: 100%|██████████| 6/6 [00:00<00:00, 330.76it/s]\n"
     ]
    },
    {
     "name": "stdout",
     "output_type": "stream",
     "text": [
      "79\n"
     ]
    },
    {
     "name": "stderr",
     "output_type": "stream",
     "text": [
      "loss: 0.3864599: 100%|██████████| 2/2 [00:00<00:00, 58.08it/s]\n",
      "top_5: 0.5912182: 100%|██████████| 2/2 [00:00<00:00, 300.02it/s]\n",
      "top_5: 0.5937500: 100%|██████████| 6/6 [00:00<00:00, 376.94it/s]\n"
     ]
    },
    {
     "name": "stdout",
     "output_type": "stream",
     "text": [
      "80\n"
     ]
    },
    {
     "name": "stderr",
     "output_type": "stream",
     "text": [
      "loss: 0.4011030: 100%|██████████| 2/2 [00:00<00:00, 61.62it/s]\n",
      "top_5: 0.5931713: 100%|██████████| 2/2 [00:00<00:00, 287.65it/s]\n",
      "top_5: 0.5937500: 100%|██████████| 6/6 [00:00<00:00, 370.74it/s]\n"
     ]
    },
    {
     "name": "stdout",
     "output_type": "stream",
     "text": [
      "81\n"
     ]
    },
    {
     "name": "stderr",
     "output_type": "stream",
     "text": [
      "loss: 0.3902579: 100%|██████████| 2/2 [00:00<00:00, 61.98it/s]\n",
      "top_5: 0.5866850: 100%|██████████| 2/2 [00:00<00:00, 310.53it/s]\n",
      "top_5: 0.5937500: 100%|██████████| 6/6 [00:00<00:00, 377.65it/s]\n"
     ]
    },
    {
     "name": "stdout",
     "output_type": "stream",
     "text": [
      "82\n"
     ]
    },
    {
     "name": "stderr",
     "output_type": "stream",
     "text": [
      "loss: 0.3880855: 100%|██████████| 2/2 [00:00<00:00, 57.28it/s]\n",
      "top_5: 0.6045404: 100%|██████████| 2/2 [00:00<00:00, 301.55it/s]\n",
      "top_5: 0.5937500: 100%|██████████| 6/6 [00:00<00:00, 330.95it/s]\n"
     ]
    },
    {
     "name": "stdout",
     "output_type": "stream",
     "text": [
      "83\n"
     ]
    },
    {
     "name": "stderr",
     "output_type": "stream",
     "text": [
      "loss: 0.3931757: 100%|██████████| 2/2 [00:00<00:00, 58.37it/s]\n",
      "top_5: 0.5948110: 100%|██████████| 2/2 [00:00<00:00, 302.58it/s]\n",
      "top_5: 0.6041667: 100%|██████████| 6/6 [00:00<00:00, 400.84it/s]\n"
     ]
    },
    {
     "name": "stdout",
     "output_type": "stream",
     "text": [
      "84\n"
     ]
    },
    {
     "name": "stderr",
     "output_type": "stream",
     "text": [
      "loss: 0.3738278: 100%|██████████| 2/2 [00:00<00:00, 63.62it/s]\n",
      "top_5: 0.5998505: 100%|██████████| 2/2 [00:00<00:00, 325.97it/s]\n",
      "top_5: 0.6041667: 100%|██████████| 6/6 [00:00<00:00, 348.99it/s]\n"
     ]
    },
    {
     "name": "stdout",
     "output_type": "stream",
     "text": [
      "85\n"
     ]
    },
    {
     "name": "stderr",
     "output_type": "stream",
     "text": [
      "loss: 0.3912506: 100%|██████████| 2/2 [00:00<00:00, 69.54it/s]\n",
      "top_5: 0.5977406: 100%|██████████| 2/2 [00:00<00:00, 342.71it/s]\n",
      "top_5: 0.6041667: 100%|██████████| 6/6 [00:00<00:00, 398.00it/s]\n"
     ]
    },
    {
     "name": "stdout",
     "output_type": "stream",
     "text": [
      "86\n"
     ]
    },
    {
     "name": "stderr",
     "output_type": "stream",
     "text": [
      "loss: 0.3749423: 100%|██████████| 2/2 [00:00<00:00, 59.51it/s]\n",
      "top_5: 0.6146195: 100%|██████████| 2/2 [00:00<00:00, 288.65it/s]\n",
      "top_5: 0.6041667: 100%|██████████| 6/6 [00:00<00:00, 387.99it/s]\n"
     ]
    },
    {
     "name": "stdout",
     "output_type": "stream",
     "text": [
      "87\n"
     ]
    },
    {
     "name": "stderr",
     "output_type": "stream",
     "text": [
      "loss: 0.3798375: 100%|██████████| 2/2 [00:00<00:00, 56.92it/s]\n",
      "top_5: 0.5928940: 100%|██████████| 2/2 [00:00<00:00, 302.90it/s]\n",
      "top_5: 0.6041667: 100%|██████████| 6/6 [00:00<00:00, 365.15it/s]\n"
     ]
    },
    {
     "name": "stdout",
     "output_type": "stream",
     "text": [
      "88\n"
     ]
    },
    {
     "name": "stderr",
     "output_type": "stream",
     "text": [
      "loss: 0.3761006: 100%|██████████| 2/2 [00:00<00:00, 62.94it/s]\n",
      "top_5: 0.6245419: 100%|██████████| 2/2 [00:00<00:00, 314.32it/s]\n",
      "top_5: 0.6041667: 100%|██████████| 6/6 [00:00<00:00, 376.91it/s]\n"
     ]
    },
    {
     "name": "stdout",
     "output_type": "stream",
     "text": [
      "89\n"
     ]
    },
    {
     "name": "stderr",
     "output_type": "stream",
     "text": [
      "loss: 0.3689252: 100%|██████████| 2/2 [00:00<00:00, 61.69it/s]\n",
      "top_5: 0.6297381: 100%|██████████| 2/2 [00:00<00:00, 318.11it/s]\n",
      "top_5: 0.6041667: 100%|██████████| 6/6 [00:00<00:00, 385.90it/s]\n"
     ]
    },
    {
     "name": "stdout",
     "output_type": "stream",
     "text": [
      "90\n"
     ]
    },
    {
     "name": "stderr",
     "output_type": "stream",
     "text": [
      "loss: 0.3647080: 100%|██████████| 2/2 [00:00<00:00, 61.87it/s]\n",
      "top_5: 0.6315345: 100%|██████████| 2/2 [00:00<00:00, 339.91it/s]\n",
      "top_5: 0.6041667: 100%|██████████| 6/6 [00:00<00:00, 388.19it/s]\n"
     ]
    },
    {
     "name": "stdout",
     "output_type": "stream",
     "text": [
      "91\n"
     ]
    },
    {
     "name": "stderr",
     "output_type": "stream",
     "text": [
      "loss: 0.3656889: 100%|██████████| 2/2 [00:00<00:00, 61.68it/s]\n",
      "top_5: 0.6304012: 100%|██████████| 2/2 [00:00<00:00, 291.00it/s]\n",
      "top_5: 0.6041667: 100%|██████████| 6/6 [00:00<00:00, 391.37it/s]\n"
     ]
    },
    {
     "name": "stdout",
     "output_type": "stream",
     "text": [
      "92\n"
     ]
    },
    {
     "name": "stderr",
     "output_type": "stream",
     "text": [
      "loss: 0.3573886: 100%|██████████| 2/2 [00:00<00:00, 62.75it/s]\n",
      "top_5: 0.6398172: 100%|██████████| 2/2 [00:00<00:00, 324.76it/s]\n",
      "top_5: 0.6041667: 100%|██████████| 6/6 [00:00<00:00, 373.04it/s]\n"
     ]
    },
    {
     "name": "stdout",
     "output_type": "stream",
     "text": [
      "93\n"
     ]
    },
    {
     "name": "stderr",
     "output_type": "stream",
     "text": [
      "loss: 0.3719570: 100%|██████████| 2/2 [00:00<00:00, 57.27it/s]\n",
      "top_5: 0.6419271: 100%|██████████| 2/2 [00:00<00:00, 321.85it/s]\n",
      "top_5: 0.6041667: 100%|██████████| 6/6 [00:00<00:00, 383.71it/s]\n"
     ]
    },
    {
     "name": "stdout",
     "output_type": "stream",
     "text": [
      "94\n"
     ]
    },
    {
     "name": "stderr",
     "output_type": "stream",
     "text": [
      "loss: 0.3585850: 100%|██████████| 2/2 [00:00<00:00, 59.55it/s]\n",
      "top_5: 0.6258681: 100%|██████████| 2/2 [00:00<00:00, 284.02it/s]\n",
      "top_5: 0.6041667: 100%|██████████| 6/6 [00:00<00:00, 377.79it/s]\n"
     ]
    },
    {
     "name": "stdout",
     "output_type": "stream",
     "text": [
      "95\n"
     ]
    },
    {
     "name": "stderr",
     "output_type": "stream",
     "text": [
      "loss: 0.3664410: 100%|██████████| 2/2 [00:00<00:00, 63.52it/s]\n",
      "top_5: 0.6425902: 100%|██████████| 2/2 [00:00<00:00, 120.74it/s]\n",
      "top_5: 0.6041667: 100%|██████████| 6/6 [00:00<00:00, 353.97it/s]\n"
     ]
    },
    {
     "name": "stdout",
     "output_type": "stream",
     "text": [
      "96\n"
     ]
    },
    {
     "name": "stderr",
     "output_type": "stream",
     "text": [
      "loss: 0.3628171: 100%|██████████| 2/2 [00:00<00:00, 62.30it/s]\n",
      "top_5: 0.6234447: 100%|██████████| 2/2 [00:00<00:00, 285.31it/s]\n",
      "top_5: 0.6145833: 100%|██████████| 6/6 [00:00<00:00, 379.07it/s]\n"
     ]
    },
    {
     "name": "stdout",
     "output_type": "stream",
     "text": [
      "97\n"
     ]
    },
    {
     "name": "stderr",
     "output_type": "stream",
     "text": [
      "loss: 0.3530521: 100%|██████████| 2/2 [00:00<00:00, 63.38it/s]\n",
      "top_5: 0.6317274: 100%|██████████| 2/2 [00:00<00:00, 328.09it/s]\n",
      "top_5: 0.6250000: 100%|██████████| 6/6 [00:00<00:00, 393.25it/s]\n"
     ]
    },
    {
     "name": "stdout",
     "output_type": "stream",
     "text": [
      "98\n"
     ]
    },
    {
     "name": "stderr",
     "output_type": "stream",
     "text": [
      "loss: 0.3594416: 100%|██████████| 2/2 [00:00<00:00, 60.66it/s]\n",
      "top_5: 0.6568890: 100%|██████████| 2/2 [00:00<00:00, 328.93it/s]\n",
      "top_5: 0.6250000: 100%|██████████| 6/6 [00:00<00:00, 345.61it/s]"
     ]
    },
    {
     "name": "stdout",
     "output_type": "stream",
     "text": [
      "99\n"
     ]
    },
    {
     "name": "stderr",
     "output_type": "stream",
     "text": [
      "\n"
     ]
    }
   ],
   "source": [
    "for i in range(100):\n",
    "    model = train(model,train_dataloader,loss_fn,optim_fn,device)\n",
    "    valid(model,train_dataloader,device,TOP_K)\n",
    "    top_k = valid(model,valid_dataloader,device,TOP_K)\n",
    "    torch.save(model,f'./models/reording_by_lab_data/epoch_{i}_top_{TOP_K}_{top_k}.pt')\n",
    "    print(i)"
   ]
  },
  {
   "cell_type": "code",
   "execution_count": 19,
   "id": "cb3acdbd",
   "metadata": {},
   "outputs": [],
   "source": [
    "import matplotlib.pyplot as plt\n",
    "from sklearn.manifold import TSNE\n",
    "PLOT_NUM = 1000"
   ]
  },
  {
   "cell_type": "code",
   "execution_count": 20,
   "id": "27d308e3",
   "metadata": {},
   "outputs": [],
   "source": [
    "tsne_model = TSNE(n_components=2)"
   ]
  },
  {
   "cell_type": "code",
   "execution_count": 21,
   "id": "54da64e9",
   "metadata": {},
   "outputs": [
    {
     "name": "stderr",
     "output_type": "stream",
     "text": [
      "100%|██████████| 1/1 [00:00<00:00, 188.41it/s]\n"
     ]
    }
   ],
   "source": [
    "bar = tqdm(enumerate(test_dataloader),total=len(test_dataloader))\n",
    "target = torch.tensor([-1], dtype=torch.long, device=device)\n",
    "for idx,batch in bar: \n",
    "    keys = batch[-1][:PLOT_NUM]\n",
    "    batch = To_Device(batch[:3],device)\n",
    "    x = model.entity_embedding(batch[0][:PLOT_NUM])\n",
    "    x += model.relation_embedding(batch[1][:PLOT_NUM])\n",
    "    x -= model.entity_embedding(batch[2][:PLOT_NUM])\n",
    "    embeddings = x.tolist()"
   ]
  },
  {
   "cell_type": "code",
   "execution_count": 22,
   "id": "c960bbfb",
   "metadata": {},
   "outputs": [],
   "source": [
    "compress_embedding = tsne_model.fit_transform(embeddings)"
   ]
  },
  {
   "cell_type": "code",
   "execution_count": 23,
   "id": "a4aa4a31",
   "metadata": {},
   "outputs": [
    {
     "data": {
      "image/png": "[encoded data removed]",
      "text/plain": [
       "<Figure size 1080x720 with 1 Axes>"
      ]
     },
     "metadata": {
      "needs_background": "light"
     },
     "output_type": "display_data"
    }
   ],
   "source": [
    "plt.figure(figsize=(15,10))\n",
    "plt.scatter(compress_embedding[:,0],compress_embedding[:,1],s=10)\n",
    "for idx,(x,y,key) in enumerate(zip(compress_embedding[:,0],compress_embedding[:,1],keys)):\n",
    "    # plt.text(x,y,','.join([str(idx),key]),ha='left',rotation=0,c='black' if key == 'malicious' else 'red',fontsize=8)\n",
    "    plt.text(x,y,key,ha='left',rotation=0,c='black' if key != 'benign' else 'red',fontsize=8)\n",
    "plt.show()"
   ]
  }
 ],
 "metadata": {
  "kernelspec": {
   "display_name": "Python 3",
   "language": "python",
   "name": "python3"
  },
  "language_info": {
   "codemirror_mode": {
    "name": "ipython",
    "version": 3
   },
   "file_extension": ".py",
   "mimetype": "text/x-python",
   "name": "python",
   "nbconvert_exporter": "python",
   "pygments_lexer": "ipython3",
   "version": "3.6.9"
  }
 },
 "nbformat": 4,
 "nbformat_minor": 5
}
